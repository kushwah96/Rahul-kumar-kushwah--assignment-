{
 "cells": [
  {
   "cell_type": "code",
   "execution_count": 191,
   "metadata": {},
   "outputs": [
    {
     "name": "stdout",
     "output_type": "stream",
     "text": [
      "enter the length 2\n",
      "1.242742 miles\n"
     ]
    }
   ],
   "source": [
    "#1.\tWrite a Python program to convert kilometers to miles?\n",
    "# in general 1km equal to 0.621371 miles\n",
    "\n",
    "length=int(input(\"enter the length \"))\n",
    "n=0.621371*length\n",
    "print(n,\"miles\")"
   ]
  },
  {
   "cell_type": "code",
   "execution_count": 192,
   "metadata": {},
   "outputs": [
    {
     "name": "stdout",
     "output_type": "stream",
     "text": [
      "Enter the temperature in Celsius32\n",
      "89.6 fahrenherit\n"
     ]
    }
   ],
   "source": [
    "#2.\tWrite a Python program to convert Celsius to Fahrenheit?\n",
    "\n",
    "#celsius to Fahrenheit °F = (°C × 9/5) + 32\n",
    "\n",
    "temperature=int(input(\"Enter the temperature in Celsius\"))\n",
    "n=temperature*9/5+32\n",
    "print(n,\"fahrenherit\")"
   ]
  },
  {
   "cell_type": "code",
   "execution_count": 200,
   "metadata": {},
   "outputs": [
    {
     "name": "stdout",
     "output_type": "stream",
     "text": [
      "input month 1\n",
      "input year 2022\n",
      "    January 2022\n",
      "Mo Tu We Th Fr Sa Su\n",
      "                1  2\n",
      " 3  4  5  6  7  8  9\n",
      "10 11 12 13 14 15 16\n",
      "17 18 19 20 21 22 23\n",
      "24 25 26 27 28 29 30\n",
      "31\n",
      "\n"
     ]
    }
   ],
   "source": [
    "#3.\tWrite a Python program to display calendar?\n",
    "import calendar\n",
    "month=int(input(\"input month \"))\n",
    "year=int(input(\"input year \"))\n",
    "print(calendar.month(year, month))\n",
    "        "
   ]
  },
  {
   "cell_type": "code",
   "execution_count": 205,
   "metadata": {},
   "outputs": [],
   "source": [
    "#4.\tWrite a Python program to solve quadratic equation?\n",
    "\n",
    "#please give me solution, and not discussed in classes as how we use +/- together in quadratic equations.\n"
   ]
  },
  {
   "cell_type": "code",
   "execution_count": 203,
   "metadata": {},
   "outputs": [
    {
     "name": "stdout",
     "output_type": "stream",
     "text": [
      "the value of a  20\n",
      "the value of b  10\n"
     ]
    }
   ],
   "source": [
    "#5.\tWrite a Python program to swap two variables without temp variable?\n",
    "\n",
    "a=10\n",
    "b=20\n",
    "a,b=b,a\n",
    "\n",
    "print(\"the value of a \",a)\n",
    "print(\"the value of b \",b)"
   ]
  },
  {
   "cell_type": "code",
   "execution_count": null,
   "metadata": {},
   "outputs": [],
   "source": []
  },
  {
   "cell_type": "code",
   "execution_count": null,
   "metadata": {},
   "outputs": [],
   "source": []
  },
  {
   "cell_type": "code",
   "execution_count": null,
   "metadata": {},
   "outputs": [],
   "source": []
  },
  {
   "cell_type": "code",
   "execution_count": null,
   "metadata": {},
   "outputs": [],
   "source": []
  },
  {
   "cell_type": "code",
   "execution_count": null,
   "metadata": {},
   "outputs": [],
   "source": []
  },
  {
   "cell_type": "code",
   "execution_count": null,
   "metadata": {},
   "outputs": [],
   "source": []
  },
  {
   "cell_type": "code",
   "execution_count": null,
   "metadata": {},
   "outputs": [],
   "source": []
  },
  {
   "cell_type": "code",
   "execution_count": null,
   "metadata": {},
   "outputs": [],
   "source": []
  }
 ],
 "metadata": {
  "kernelspec": {
   "display_name": "Python 3",
   "language": "python",
   "name": "python3"
  },
  "language_info": {
   "codemirror_mode": {
    "name": "ipython",
    "version": 3
   },
   "file_extension": ".py",
   "mimetype": "text/x-python",
   "name": "python",
   "nbconvert_exporter": "python",
   "pygments_lexer": "ipython3",
   "version": "3.7.3"
  }
 },
 "nbformat": 4,
 "nbformat_minor": 2
}
