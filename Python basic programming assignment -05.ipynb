{
 "cells": [
  {
   "cell_type": "markdown",
   "metadata": {},
   "source": [
    "# 1.Write a Python Program to Find LCM?"
   ]
  },
  {
   "cell_type": "code",
   "execution_count": 8,
   "metadata": {},
   "outputs": [
    {
     "name": "stdout",
     "output_type": "stream",
     "text": [
      "enter first number12\n",
      "enter second number36\n",
      "LCM is-- 36\n"
     ]
    }
   ],
   "source": [
    "a=int(input(\"enter first number\"))\n",
    "b=int(input(\"enter second number\"))\n",
    "\n",
    "maximum_num=max(a,b)\n",
    "while True:\n",
    "    if (maximum_num%a==0 and maximum_num%b==0):\n",
    "        break\n",
    "    maximum_num=maximum_num+1 \n",
    "print(\"LCM is--\",maximum_num)    \n"
   ]
  },
  {
   "cell_type": "markdown",
   "metadata": {},
   "source": [
    "# 2.Write a Python Program to Find HCF?"
   ]
  },
  {
   "cell_type": "code",
   "execution_count": 11,
   "metadata": {},
   "outputs": [
    {
     "name": "stdout",
     "output_type": "stream",
     "text": [
      "enter first number25\n",
      "enter second number45\n",
      "HCF is__ 5.0\n"
     ]
    }
   ],
   "source": [
    "a=int(input(\"enter first number\"))\n",
    "b=int(input(\"enter second number\"))\n",
    "\n",
    "maximum_num=max(a,b)\n",
    "while True:\n",
    "    if (maximum_num%a==0 and maximum_num%b==0):\n",
    "        break\n",
    "    maximum_num=maximum_num+1 \n",
    "\n",
    "HCF=a*b/maximum_num\n",
    "print(\"HCF is__\", HCF)"
   ]
  },
  {
   "cell_type": "markdown",
   "metadata": {},
   "source": [
    "# 3.Write a Python Program to Convert Decimal to Binary, Octal and Hexadecimal?"
   ]
  },
  {
   "cell_type": "code",
   "execution_count": 10,
   "metadata": {},
   "outputs": [
    {
     "name": "stdout",
     "output_type": "stream",
     "text": [
      "0b110000  in binary\n",
      "0o60  in octa\n",
      "0x30  in hexa\n"
     ]
    }
   ],
   "source": [
    "decimal_value=48\n",
    "\n",
    "print(bin(decimal_value),\" in binary\")\n",
    "print(oct(decimal_value),\" in octa\")\n",
    "print(hex(decimal_value),\" in hexa\")"
   ]
  },
  {
   "cell_type": "markdown",
   "metadata": {},
   "source": [
    "# 4.Write a Python Program To Find ASCII value of a character?"
   ]
  },
  {
   "cell_type": "code",
   "execution_count": 19,
   "metadata": {},
   "outputs": [
    {
     "name": "stdout",
     "output_type": "stream",
     "text": [
      "enter the character:A\n",
      "65\n"
     ]
    }
   ],
   "source": [
    "character=input(\"enter the character:\")\n",
    "Ascii=ord(character)\n",
    "print(Ascii)\n"
   ]
  },
  {
   "cell_type": "markdown",
   "metadata": {},
   "source": [
    "# 5.\tWrite a Python Program to Make a Simple Calculator with 4 basic mathematical operations?"
   ]
  },
  {
   "cell_type": "code",
   "execution_count": null,
   "metadata": {},
   "outputs": [],
   "source": [
    "def add(num1,num2):\n",
    "    return num1+num2\n",
    "\n",
    "def substract(num1,num2):\n",
    "    return num1-num2\n",
    "\n",
    "def multiply(num1,num2):\n",
    "    return num1*num2\n",
    "\n",
    "def divison(num1,num2):\n",
    "    return num1/num2\n",
    "# now need to take choice from user\n",
    "choice=int(input(\"Enter your choice 1,2,3,4:\"))\n",
    "num1=int(input(\"enter first number\"))\n",
    "num2=int(input(\"enter second number\"))\n",
    "\n",
    "if choice==1:\n",
    "    print(num1 ,\"+\" ,num2, \"=\",add(num1,num2))\n",
    "\n",
    "elif choice==2:\n",
    "    print(num1 ,\"-\" ,num2, \"=\",substract(num1,num2))\n",
    "    \n",
    "elif choice==3:\n",
    "    print(num1 ,\"*\" ,num2, \"=\",multiply(num1,num2))\n",
    "    \n",
    "elif choice==4:\n",
    "    print(num1 ,\"/\" ,num2, \"=\",divison(num1,num2))\n",
    "    \n",
    "\n",
    "    \n",
    "\n",
    "\n",
    "\n"
   ]
  },
  {
   "cell_type": "code",
   "execution_count": null,
   "metadata": {},
   "outputs": [],
   "source": []
  },
  {
   "cell_type": "code",
   "execution_count": null,
   "metadata": {},
   "outputs": [],
   "source": []
  }
 ],
 "metadata": {
  "kernelspec": {
   "display_name": "Python 3",
   "language": "python",
   "name": "python3"
  },
  "language_info": {
   "codemirror_mode": {
    "name": "ipython",
    "version": 3
   },
   "file_extension": ".py",
   "mimetype": "text/x-python",
   "name": "python",
   "nbconvert_exporter": "python",
   "pygments_lexer": "ipython3",
   "version": "3.7.3"
  }
 },
 "nbformat": 4,
 "nbformat_minor": 2
}
