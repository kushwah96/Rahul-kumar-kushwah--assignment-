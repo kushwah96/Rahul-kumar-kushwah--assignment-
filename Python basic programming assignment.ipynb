{
 "cells": [
  {
   "cell_type": "code",
   "execution_count": 1,
   "metadata": {},
   "outputs": [
    {
     "name": "stdout",
     "output_type": "stream",
     "text": [
      "Hello Python\n"
     ]
    }
   ],
   "source": [
    "# 1 Write a Python program to print \"Hello Python\"?\n",
    "\n",
    "Name= \"Hello Python\"\n",
    "print(Name)"
   ]
  },
  {
   "cell_type": "code",
   "execution_count": 4,
   "metadata": {},
   "outputs": [
    {
     "name": "stdout",
     "output_type": "stream",
     "text": [
      "type first number10\n",
      "type second number5\n",
      "15\n",
      "2.0\n"
     ]
    }
   ],
   "source": [
    "#2.\tWrite a Python program to do arithmetical operations addition and division.?\n",
    "\n",
    "var_1= int(input(\"type first number\"))\n",
    "var_2= int(input(\"type second number\"))\n",
    "\n",
    "# for addition\n",
    "print(var_1+var_2)\n",
    "\n",
    "#for division\n",
    "print(var_1/var_2)"
   ]
  },
  {
   "cell_type": "code",
   "execution_count": 7,
   "metadata": {},
   "outputs": [
    {
     "name": "stdout",
     "output_type": "stream",
     "text": [
      "tringle base_5\n",
      "tringle hight_12\n",
      "30.0\n"
     ]
    }
   ],
   "source": [
    "#3.\tWrite a Python program to find the area of a triangle?\n",
    "\n",
    "# aera of tringle is = 1/2 * base* hight\n",
    "\n",
    "base=int(input(\"tringle base_\"))\n",
    "hight=int(input(\"tringle hight_\"))\n",
    "\n",
    "aera_of_tringle=1/2*base*hight\n",
    "print(aera_of_tringle)\n",
    "\n",
    "\n"
   ]
  },
  {
   "cell_type": "code",
   "execution_count": 17,
   "metadata": {},
   "outputs": [
    {
     "name": "stdout",
     "output_type": "stream",
     "text": [
      "The value of a afer swaping 20\n",
      "The value of a afer swaping 10\n"
     ]
    }
   ],
   "source": [
    "# 4.Python program to swap two variables\n",
    "\n",
    "a=10\n",
    "b=20\n",
    "\n",
    "a,b=b,a\n",
    "#The value of a afer swaping\n",
    "print(\"The value of a afer swaping\",a)\n",
    "\n",
    "#The value of b afer swaping\n",
    "print(\"The value of a afer swaping\",b)"
   ]
  },
  {
   "cell_type": "code",
   "execution_count": 20,
   "metadata": {},
   "outputs": [
    {
     "name": "stdout",
     "output_type": "stream",
     "text": [
      "random number is 31\n"
     ]
    }
   ],
   "source": [
    "#5.\tWrite a Python program to generate a random number?\n",
    "import random\n",
    "\n",
    "random_number=random.randint(20,50)\n",
    "print(\"random number is\" ,random_number)"
   ]
  },
  {
   "cell_type": "code",
   "execution_count": null,
   "metadata": {},
   "outputs": [],
   "source": []
  },
  {
   "cell_type": "code",
   "execution_count": null,
   "metadata": {},
   "outputs": [],
   "source": []
  }
 ],
 "metadata": {
  "kernelspec": {
   "display_name": "Python 3",
   "language": "python",
   "name": "python3"
  },
  "language_info": {
   "codemirror_mode": {
    "name": "ipython",
    "version": 3
   },
   "file_extension": ".py",
   "mimetype": "text/x-python",
   "name": "python",
   "nbconvert_exporter": "python",
   "pygments_lexer": "ipython3",
   "version": "3.7.3"
  }
 },
 "nbformat": 4,
 "nbformat_minor": 2
}
